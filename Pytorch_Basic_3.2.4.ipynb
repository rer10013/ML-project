{
  "nbformat": 4,
  "nbformat_minor": 0,
  "metadata": {
    "colab": {
      "provenance": [],
      "toc_visible": true,
      "mount_file_id": "1AsH2rz8JNfidXa4gFUjvP15jZb82Bs8B",
      "authorship_tag": "ABX9TyPxtoTE9/wpZbJG++Bhojp1",
      "include_colab_link": true
    },
    "kernelspec": {
      "name": "python3",
      "display_name": "Python 3"
    },
    "language_info": {
      "name": "python"
    }
  },
  "cells": [
    {
      "cell_type": "markdown",
      "metadata": {
        "id": "view-in-github",
        "colab_type": "text"
      },
      "source": [
        "<a href=\"https://colab.research.google.com/github/rer10013/ML-project/blob/main/Pytorch_Basic_3.2.4.ipynb\" target=\"_parent\"><img src=\"https://colab.research.google.com/assets/colab-badge.svg\" alt=\"Open In Colab\"/></a>"
      ]
    },
    {
      "cell_type": "code",
      "execution_count": 4,
      "metadata": {
        "id": "yQfRZsvqUH5O"
      },
      "outputs": [],
      "source": [
        "# library\n",
        "from sklearn import datasets\n",
        "from torch.utils.data import TensorDataset, DataLoader\n",
        "import torch\n",
        "import torch.nn as nn\n",
        "import torch.optim as optim"
      ]
    },
    {
      "cell_type": "code",
      "source": [
        "# import dataset - revised\n",
        "dataset = datasets.load_breast_cancer()\n",
        "\n",
        "X, y = dataset['data'], dataset['target']"
      ],
      "metadata": {
        "id": "m0AyIB_qUmN0"
      },
      "execution_count": 5,
      "outputs": []
    },
    {
      "cell_type": "code",
      "source": [
        "# Tensor-ize\n",
        "X = torch.FloatTensor(X)\n",
        "y = torch.FloatTensor(y).view(-1, 1)\n",
        "\n",
        "# reqularization\n",
        "X = (X - X.mean(dim=0)) / X.std(dim=0)\n",
        "\n",
        "# dataset maker\n",
        "dset = TensorDataset(X, y)\n",
        "loader = DataLoader(dset, batch_size=256, shuffle=True)"
      ],
      "metadata": {
        "id": "qhgltpS0VEgx"
      },
      "execution_count": 21,
      "outputs": []
    },
    {
      "cell_type": "code",
      "source": [
        "# model\n",
        "class NeuralNetwork(nn.Module):\n",
        "  def __init__(self, num_features):\n",
        "    super().__init__()\n",
        "    self.linear1 = nn.Linear(num_features, 4)\n",
        "    self.relu = nn.ReLU()\n",
        "    self.linear2 = nn.Linear(4, 1)\n",
        "    self.sigmoid = nn.Sigmoid()\n",
        "\n",
        "  def forward(self, X):\n",
        "    out = self.linear1(X)\n",
        "    out = self.relu(out)\n",
        "    out = self.linear2(out)\n",
        "    out = self.sigmoid(out)\n",
        "    return out\n",
        "\n",
        "model = NeuralNetwork(30)"
      ],
      "metadata": {
        "id": "sYLlcgwELaua"
      },
      "execution_count": 26,
      "outputs": []
    },
    {
      "cell_type": "code",
      "source": [
        "# BCE\n",
        "criterion = nn.BCELoss()\n",
        "\n",
        "# optimizer\n",
        "optimizer = optim.SGD(model.parameters(), lr=0.1)"
      ],
      "metadata": {
        "id": "_8hrFLYaMVtc"
      },
      "execution_count": 27,
      "outputs": []
    },
    {
      "cell_type": "code",
      "source": [
        "# train model\n",
        "def train(model, criterion, optimizer, loader):\n",
        "  epoch_loss = 0\n",
        "\n",
        "  for X_batch, y_batch in loader:\n",
        "    optimizer.zero_grad()\n",
        "    hypothesis = model(X_batch)\n",
        "    loss = criterion(hypothesis, y_batch)\n",
        "    loss.backward()\n",
        "    optimizer.step()\n",
        "    epoch_loss += loss.item()\n",
        "\n",
        "  return epoch_loss / len(loader)"
      ],
      "metadata": {
        "id": "LS9RYfaMMeFm"
      },
      "execution_count": 28,
      "outputs": []
    },
    {
      "cell_type": "code",
      "source": [
        "# train\n",
        "n_epochs = 100\n",
        "for epoch in range(1, n_epochs + 1):\n",
        "  loss = train(model, criterion, optimizer, loader)\n",
        "  if epoch % 10 == 0:\n",
        "    print(f'Epoch: {epoch}, Loss: {loss}')"
      ],
      "metadata": {
        "colab": {
          "base_uri": "https://localhost:8080/"
        },
        "id": "lhk4lGFlNGt5",
        "outputId": "f3636894-ab41-46ad-91a5-ba2dd1330c7f"
      },
      "execution_count": 29,
      "outputs": [
        {
          "output_type": "stream",
          "name": "stdout",
          "text": [
            "Epoch: 10, Loss: 0.31072189410527545\n",
            "Epoch: 20, Loss: 0.16846775511900583\n",
            "Epoch: 30, Loss: 0.12129860868056615\n",
            "Epoch: 40, Loss: 0.08950667083263397\n",
            "Epoch: 50, Loss: 0.08442565550406773\n",
            "Epoch: 60, Loss: 0.08746057252089183\n",
            "Epoch: 70, Loss: 0.07136990129947662\n",
            "Epoch: 80, Loss: 0.08096867054700851\n",
            "Epoch: 90, Loss: 0.05986542751391729\n",
            "Epoch: 100, Loss: 0.050918472930788994\n"
          ]
        }
      ]
    },
    {
      "cell_type": "code",
      "source": [],
      "metadata": {
        "id": "Wm5wVontNeIl"
      },
      "execution_count": null,
      "outputs": []
    }
  ]
}
{
  "nbformat": 4,
  "nbformat_minor": 0,
  "metadata": {
    "colab": {
      "provenance": [],
      "toc_visible": true,
      "mount_file_id": "1AsH2rz8JNfidXa4gFUjvP15jZb82Bs8B",
      "authorship_tag": "ABX9TyPNatrYT85rvNtgnD6vxjiE",
      "include_colab_link": true
    },
    "kernelspec": {
      "name": "python3",
      "display_name": "Python 3"
    },
    "language_info": {
      "name": "python"
    }
  },
  "cells": [
    {
      "cell_type": "markdown",
      "metadata": {
        "id": "view-in-github",
        "colab_type": "text"
      },
      "source": [
        "<a href=\"https://colab.research.google.com/github/rer10013/ML-project/blob/main/Pytorch_Basic_3.2.5.ipynb\" target=\"_parent\"><img src=\"https://colab.research.google.com/assets/colab-badge.svg\" alt=\"Open In Colab\"/></a>"
      ]
    },
    {
      "cell_type": "code",
      "execution_count": 2,
      "metadata": {
        "id": "yQfRZsvqUH5O"
      },
      "outputs": [],
      "source": [
        "# library\n",
        "from sklearn import datasets\n",
        "from torch.utils.data import TensorDataset, DataLoader\n",
        "import torch\n",
        "import torch.nn as nn\n",
        "import torch.optim as optim"
      ]
    },
    {
      "cell_type": "code",
      "source": [
        "# import dataset - revised\n",
        "dataset = datasets.load_breast_cancer()\n",
        "\n",
        "X, y = dataset['data'], dataset['target']"
      ],
      "metadata": {
        "id": "m0AyIB_qUmN0"
      },
      "execution_count": 3,
      "outputs": []
    },
    {
      "cell_type": "code",
      "source": [
        "# Tensor-ize\n",
        "X = torch.FloatTensor(X)\n",
        "y = torch.FloatTensor(y).view(-1, 1)\n",
        "\n",
        "# reqularization\n",
        "X = (X - X.mean(dim=0)) / X.std(dim=0)\n",
        "\n",
        "# dataset maker\n",
        "dset = TensorDataset(X, y)\n",
        "loader = DataLoader(dset, batch_size=256, shuffle=True)"
      ],
      "metadata": {
        "id": "qhgltpS0VEgx"
      },
      "execution_count": 4,
      "outputs": []
    },
    {
      "cell_type": "code",
      "source": [
        "# model\n",
        "class NeuralNetwork(nn.Module):\n",
        "  def __init__(self, num_features):\n",
        "    super().__init__()\n",
        "    self.linear1 = nn.Linear(num_features, 4)\n",
        "    self.relu = nn.ReLU()\n",
        "    self.linear2 = nn.Linear(4, 1)\n",
        "    self.sigmoid = nn.Sigmoid()\n",
        "\n",
        "  def forward(self, X):\n",
        "    out = self.linear1(X)\n",
        "    out = self.relu(out)\n",
        "    out = self.linear2(out)\n",
        "    out = self.sigmoid(out)\n",
        "    return out\n",
        "\n",
        "model = NeuralNetwork(30)"
      ],
      "metadata": {
        "id": "sYLlcgwELaua"
      },
      "execution_count": 5,
      "outputs": []
    },
    {
      "cell_type": "code",
      "source": [
        "# BCE\n",
        "criterion = nn.BCELoss()\n",
        "\n",
        "# optimizer\n",
        "optimizer = optim.SGD(model.parameters(), lr=0.1)"
      ],
      "metadata": {
        "id": "_8hrFLYaMVtc"
      },
      "execution_count": 6,
      "outputs": []
    },
    {
      "cell_type": "code",
      "source": [
        "# train model\n",
        "def train(model, criterion, optimizer, loader):\n",
        "  epoch_loss = 0\n",
        "\n",
        "  for X_batch, y_batch in loader:\n",
        "    optimizer.zero_grad()\n",
        "    hypothesis = model(X_batch)\n",
        "    loss = criterion(hypothesis, y_batch)\n",
        "    loss.backward()\n",
        "    optimizer.step()\n",
        "    epoch_loss += loss.item()\n",
        "\n",
        "  return epoch_loss / len(loader)"
      ],
      "metadata": {
        "id": "LS9RYfaMMeFm"
      },
      "execution_count": 7,
      "outputs": []
    },
    {
      "cell_type": "code",
      "source": [
        "# train\n",
        "n_epochs = 100\n",
        "for epoch in range(1, n_epochs + 1):\n",
        "  loss = train(model, criterion, optimizer, loader)\n",
        "  if epoch % 10 == 0:\n",
        "    print(f'Epoch: {epoch}, Loss: {loss}')"
      ],
      "metadata": {
        "colab": {
          "base_uri": "https://localhost:8080/"
        },
        "id": "lhk4lGFlNGt5",
        "outputId": "e0963310-7b06-418d-99a8-b69304bc75aa"
      },
      "execution_count": 8,
      "outputs": [
        {
          "output_type": "stream",
          "name": "stdout",
          "text": [
            "Epoch: 10, Loss: 0.26706311106681824\n",
            "Epoch: 20, Loss: 0.1546394924322764\n",
            "Epoch: 30, Loss: 0.09831816454728444\n",
            "Epoch: 40, Loss: 0.09093216309944789\n",
            "Epoch: 50, Loss: 0.08932167043288548\n",
            "Epoch: 60, Loss: 0.06856339424848557\n",
            "Epoch: 70, Loss: 0.0669243795176347\n",
            "Epoch: 80, Loss: 0.05962227036555608\n",
            "Epoch: 90, Loss: 0.05024047568440437\n",
            "Epoch: 100, Loss: 0.055282898247241974\n"
          ]
        }
      ]
    },
    {
      "cell_type": "code",
      "source": [
        "# inference\n",
        "y_precdicted1 = (model(X) >= 0.5).float()\n",
        "\n",
        "# accuracy\n",
        "score_of_predicted_model = (y_precdicted1 == y).float().mean()\n",
        "print(f'Accuracy: {score_of_predicted_model}')"
      ],
      "metadata": {
        "id": "Wm5wVontNeIl",
        "colab": {
          "base_uri": "https://localhost:8080/"
        },
        "outputId": "522314ea-88ff-46d0-ae04-70f26307950b"
      },
      "execution_count": 9,
      "outputs": [
        {
          "output_type": "stream",
          "name": "stdout",
          "text": [
            "Accuracy: 0.9859402179718018\n"
          ]
        }
      ]
    },
    {
      "cell_type": "code",
      "source": [
        "# save\n",
        "torch.save(model.state_dict(), './model.pt')\n",
        "\n",
        "# create new model & reload\n",
        "loared_model = NeuralNetwork(30)\n",
        "loared_model.load_state_dict(torch.load('./model.pt'))\n",
        "\n",
        "# inference\n",
        "y_precdicted2 = (loared_model(X) >= 0.5).float()\n",
        "\n",
        "# accuracy\n",
        "score_of_predicted_model = (y_precdicted2 == y).float().mean()\n",
        "print(f'Accuracy: {score_of_predicted_model}')"
      ],
      "metadata": {
        "colab": {
          "base_uri": "https://localhost:8080/"
        },
        "id": "QwhYAaDwZnhl",
        "outputId": "da954441-9a98-409c-9d90-ca1b93e623bf"
      },
      "execution_count": 12,
      "outputs": [
        {
          "output_type": "stream",
          "name": "stdout",
          "text": [
            "Accuracy: 0.9859402179718018\n"
          ]
        },
        {
          "output_type": "stream",
          "name": "stderr",
          "text": [
            "<ipython-input-12-748a422c0d0c>:6: FutureWarning: You are using `torch.load` with `weights_only=False` (the current default value), which uses the default pickle module implicitly. It is possible to construct malicious pickle data which will execute arbitrary code during unpickling (See https://github.com/pytorch/pytorch/blob/main/SECURITY.md#untrusted-models for more details). In a future release, the default value for `weights_only` will be flipped to `True`. This limits the functions that could be executed during unpickling. Arbitrary objects will no longer be allowed to be loaded via this mode unless they are explicitly allowlisted by the user via `torch.serialization.add_safe_globals`. We recommend you start setting `weights_only=True` for any use case where you don't have full control of the loaded file. Please open an issue on GitHub for any issues related to this experimental feature.\n",
            "  loared_model.load_state_dict(torch.load('./model.pt'))\n"
          ]
        }
      ]
    },
    {
      "cell_type": "code",
      "source": [],
      "metadata": {
        "id": "pkmH3cIhaLyQ"
      },
      "execution_count": null,
      "outputs": []
    }
  ]
}
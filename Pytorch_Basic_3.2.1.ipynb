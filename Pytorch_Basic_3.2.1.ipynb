{
  "nbformat": 4,
  "nbformat_minor": 0,
  "metadata": {
    "colab": {
      "provenance": [],
      "toc_visible": true,
      "gpuType": "T4",
      "mount_file_id": "1AsH2rz8JNfidXa4gFUjvP15jZb82Bs8B",
      "authorship_tag": "ABX9TyP85vibrHbDi9BgGqvjOkoB",
      "include_colab_link": true
    },
    "kernelspec": {
      "name": "python3",
      "display_name": "Python 3"
    },
    "language_info": {
      "name": "python"
    },
    "accelerator": "GPU"
  },
  "cells": [
    {
      "cell_type": "markdown",
      "metadata": {
        "id": "view-in-github",
        "colab_type": "text"
      },
      "source": [
        "<a href=\"https://colab.research.google.com/github/rer10013/ML-project/blob/main/Pytorch_Basic_3.2.1.ipynb\" target=\"_parent\"><img src=\"https://colab.research.google.com/assets/colab-badge.svg\" alt=\"Open In Colab\"/></a>"
      ]
    },
    {
      "cell_type": "code",
      "execution_count": 1,
      "metadata": {
        "id": "yQfRZsvqUH5O"
      },
      "outputs": [],
      "source": [
        "# library\n",
        "from sklearn import datasets\n",
        "import torch\n",
        "import torch.nn as nn\n",
        "import torch.optim as optim"
      ]
    },
    {
      "cell_type": "code",
      "source": [
        "# import dataset - revised\n",
        "dataset = datasets.fetch_california_housing()\n",
        "\n",
        "X, y = dataset['data'], dataset['target']"
      ],
      "metadata": {
        "id": "m0AyIB_qUmN0"
      },
      "execution_count": 2,
      "outputs": []
    },
    {
      "cell_type": "code",
      "source": [
        "# Tensor-ize\n",
        "X = torch.FloatTensor(X)\n",
        "y = torch.FloatTensor(y).unsqueeze(-1)\n",
        "\n",
        "# reqularization\n",
        "X = (X - X.mean(dim=0)) / X.std(dim=0)"
      ],
      "metadata": {
        "id": "qhgltpS0VEgx"
      },
      "execution_count": 3,
      "outputs": []
    },
    {
      "cell_type": "code",
      "source": [
        "# model\n",
        "model = nn.Linear(X.shape[1], 1)\n",
        "\n",
        "# MSE\n",
        "criterion = nn.MSELoss()\n",
        "\n",
        "# optimizer\n",
        "optimizer = optim.SGD(model.parameters(), lr=0.01)"
      ],
      "metadata": {
        "id": "_8hrFLYaMVtc"
      },
      "execution_count": 4,
      "outputs": []
    },
    {
      "cell_type": "code",
      "source": [
        "print(X)"
      ],
      "metadata": {
        "id": "YiCcJ-Et3gnN",
        "outputId": "63a4ebf1-e424-4b9d-bfe5-4e3a34f56565",
        "colab": {
          "base_uri": "https://localhost:8080/"
        }
      },
      "execution_count": 8,
      "outputs": [
        {
          "output_type": "stream",
          "name": "stdout",
          "text": [
            "tensor([[ 2.3447,  0.9821,  0.6285,  ..., -0.0496,  1.0525, -1.3278],\n",
            "        [ 2.3322, -0.6070,  0.3270,  ..., -0.0925,  1.0432, -1.3228],\n",
            "        [ 1.7827,  1.8561,  1.1556,  ..., -0.0258,  1.0385, -1.3328],\n",
            "        ...,\n",
            "        [-1.1426, -0.9248, -0.0903,  ..., -0.0717,  1.7782, -0.8237],\n",
            "        [-1.0546, -0.8454, -0.0402,  ..., -0.0912,  1.7782, -0.8736],\n",
            "        [-0.7801, -1.0043, -0.0704,  ..., -0.0437,  1.7501, -0.8337]])\n"
          ]
        }
      ]
    },
    {
      "cell_type": "code",
      "source": [
        "# train\n",
        "def train(model, criterion, optimizer, X, y):\n",
        "  optimizer.zero_grad()\n",
        "  hypothesis = model(X)\n",
        "  loss = criterion(hypothesis, y)\n",
        "  loss.backward()\n",
        "  optimizer.step()\n",
        "  return loss.item()"
      ],
      "metadata": {
        "id": "LS9RYfaMMeFm"
      },
      "execution_count": 5,
      "outputs": []
    },
    {
      "cell_type": "code",
      "source": [
        "n_epochs = 1000\n",
        "for epoch in range(1, n_epochs + 1):\n",
        "  loss = train(model, criterion, optimizer, X, y)\n",
        "  if epoch % 10 == 0:\n",
        "    print(f'Epoch: {epoch}, Loss: {loss}')"
      ],
      "metadata": {
        "colab": {
          "base_uri": "https://localhost:8080/"
        },
        "id": "lhk4lGFlNGt5",
        "outputId": "190294cf-88d9-4ce0-927d-50d09087f312"
      },
      "execution_count": 7,
      "outputs": [
        {
          "output_type": "stream",
          "name": "stdout",
          "text": [
            "Epoch: 10, Loss: 0.707152783870697\n",
            "Epoch: 20, Loss: 0.6772588491439819\n",
            "Epoch: 30, Loss: 0.6562812328338623\n",
            "Epoch: 40, Loss: 0.6412975192070007\n",
            "Epoch: 50, Loss: 0.6303550601005554\n",
            "Epoch: 60, Loss: 0.6221479773521423\n",
            "Epoch: 70, Loss: 0.6158019304275513\n",
            "Epoch: 80, Loss: 0.6107309460639954\n",
            "Epoch: 90, Loss: 0.6065419912338257\n",
            "Epoch: 100, Loss: 0.602970540523529\n",
            "Epoch: 110, Loss: 0.5998385548591614\n",
            "Epoch: 120, Loss: 0.5970257520675659\n",
            "Epoch: 130, Loss: 0.5944502353668213\n",
            "Epoch: 140, Loss: 0.5920566320419312\n",
            "Epoch: 150, Loss: 0.5898066759109497\n",
            "Epoch: 160, Loss: 0.5876739025115967\n",
            "Epoch: 170, Loss: 0.5856398940086365\n",
            "Epoch: 180, Loss: 0.5836915373802185\n",
            "Epoch: 190, Loss: 0.5818191170692444\n",
            "Epoch: 200, Loss: 0.5800158381462097\n",
            "Epoch: 210, Loss: 0.5782761573791504\n",
            "Epoch: 220, Loss: 0.5765961408615112\n",
            "Epoch: 230, Loss: 0.5749722719192505\n",
            "Epoch: 240, Loss: 0.5734016299247742\n",
            "Epoch: 250, Loss: 0.5718820691108704\n",
            "Epoch: 260, Loss: 0.5704114437103271\n",
            "Epoch: 270, Loss: 0.5689877271652222\n",
            "Epoch: 280, Loss: 0.5676092505455017\n",
            "Epoch: 290, Loss: 0.5662744641304016\n",
            "Epoch: 300, Loss: 0.5649818778038025\n",
            "Epoch: 310, Loss: 0.563730001449585\n",
            "Epoch: 320, Loss: 0.5625174045562744\n",
            "Epoch: 330, Loss: 0.5613430142402649\n",
            "Epoch: 340, Loss: 0.5602055191993713\n",
            "Epoch: 350, Loss: 0.5591035485267639\n",
            "Epoch: 360, Loss: 0.558036208152771\n",
            "Epoch: 370, Loss: 0.5570023059844971\n",
            "Epoch: 380, Loss: 0.5560006499290466\n",
            "Epoch: 390, Loss: 0.5550304055213928\n",
            "Epoch: 400, Loss: 0.5540904998779297\n",
            "Epoch: 410, Loss: 0.553179919719696\n",
            "Epoch: 420, Loss: 0.552297830581665\n",
            "Epoch: 430, Loss: 0.5514432191848755\n",
            "Epoch: 440, Loss: 0.5506153106689453\n",
            "Epoch: 450, Loss: 0.5498132109642029\n",
            "Epoch: 460, Loss: 0.5490361452102661\n",
            "Epoch: 470, Loss: 0.5482832193374634\n",
            "Epoch: 480, Loss: 0.5475537776947021\n",
            "Epoch: 490, Loss: 0.5468469858169556\n",
            "Epoch: 500, Loss: 0.5461622476577759\n",
            "Epoch: 510, Loss: 0.5454988479614258\n",
            "Epoch: 520, Loss: 0.5448560118675232\n",
            "Epoch: 530, Loss: 0.5442332029342651\n",
            "Epoch: 540, Loss: 0.5436297059059143\n",
            "Epoch: 550, Loss: 0.5430449843406677\n",
            "Epoch: 560, Loss: 0.5424783229827881\n",
            "Epoch: 570, Loss: 0.5419293642044067\n",
            "Epoch: 580, Loss: 0.5413973331451416\n",
            "Epoch: 590, Loss: 0.5408818125724792\n",
            "Epoch: 600, Loss: 0.5403821468353271\n",
            "Epoch: 610, Loss: 0.5398980975151062\n",
            "Epoch: 620, Loss: 0.5394290089607239\n",
            "Epoch: 630, Loss: 0.538974404335022\n",
            "Epoch: 640, Loss: 0.5385338068008423\n",
            "Epoch: 650, Loss: 0.5381068587303162\n",
            "Epoch: 660, Loss: 0.5376931428909302\n",
            "Epoch: 670, Loss: 0.5372921228408813\n",
            "Epoch: 680, Loss: 0.5369035005569458\n",
            "Epoch: 690, Loss: 0.5365267992019653\n",
            "Epoch: 700, Loss: 0.5361617207527161\n",
            "Epoch: 710, Loss: 0.5358079671859741\n",
            "Epoch: 720, Loss: 0.5354650020599365\n",
            "Epoch: 730, Loss: 0.535132646560669\n",
            "Epoch: 740, Loss: 0.5348104238510132\n",
            "Epoch: 750, Loss: 0.5344982147216797\n",
            "Epoch: 760, Loss: 0.5341955423355103\n",
            "Epoch: 770, Loss: 0.5339021682739258\n",
            "Epoch: 780, Loss: 0.5336178541183472\n",
            "Epoch: 790, Loss: 0.5333420634269714\n",
            "Epoch: 800, Loss: 0.5330749154090881\n",
            "Epoch: 810, Loss: 0.5328158736228943\n",
            "Epoch: 820, Loss: 0.532564640045166\n",
            "Epoch: 830, Loss: 0.5323212146759033\n",
            "Epoch: 840, Loss: 0.5320851802825928\n",
            "Epoch: 850, Loss: 0.5318563580513\n",
            "Epoch: 860, Loss: 0.531634509563446\n",
            "Epoch: 870, Loss: 0.5314194560050964\n",
            "Epoch: 880, Loss: 0.5312108993530273\n",
            "Epoch: 890, Loss: 0.5310087203979492\n",
            "Epoch: 900, Loss: 0.5308127403259277\n",
            "Epoch: 910, Loss: 0.5306226015090942\n",
            "Epoch: 920, Loss: 0.5304383635520935\n",
            "Epoch: 930, Loss: 0.5302596092224121\n",
            "Epoch: 940, Loss: 0.53008633852005\n",
            "Epoch: 950, Loss: 0.5299182534217834\n",
            "Epoch: 960, Loss: 0.5297553539276123\n",
            "Epoch: 970, Loss: 0.5295973420143127\n",
            "Epoch: 980, Loss: 0.5294440984725952\n",
            "Epoch: 990, Loss: 0.5292954444885254\n",
            "Epoch: 1000, Loss: 0.5291513800621033\n"
          ]
        }
      ]
    },
    {
      "cell_type": "code",
      "source": [],
      "metadata": {
        "id": "Wm5wVontNeIl"
      },
      "execution_count": null,
      "outputs": []
    }
  ]
}
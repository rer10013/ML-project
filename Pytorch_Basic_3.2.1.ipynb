{
  "nbformat": 4,
  "nbformat_minor": 0,
  "metadata": {
    "colab": {
      "provenance": [],
      "toc_visible": true,
      "mount_file_id": "1AsH2rz8JNfidXa4gFUjvP15jZb82Bs8B",
      "authorship_tag": "ABX9TyMCSRBaVSUPvasoWOYvFT82",
      "include_colab_link": true
    },
    "kernelspec": {
      "name": "python3",
      "display_name": "Python 3"
    },
    "language_info": {
      "name": "python"
    }
  },
  "cells": [
    {
      "cell_type": "markdown",
      "metadata": {
        "id": "view-in-github",
        "colab_type": "text"
      },
      "source": [
        "<a href=\"https://colab.research.google.com/github/rer10013/ML-project/blob/main/Pytorch_Basic_3.2.1.ipynb\" target=\"_parent\"><img src=\"https://colab.research.google.com/assets/colab-badge.svg\" alt=\"Open In Colab\"/></a>"
      ]
    },
    {
      "cell_type": "code",
      "execution_count": null,
      "metadata": {
        "id": "yQfRZsvqUH5O"
      },
      "outputs": [],
      "source": [
        "# library\n",
        "from sklearn import datasets\n",
        "import torch\n",
        "import torch.nn as nn\n",
        "import torch.optim as optim"
      ]
    },
    {
      "cell_type": "code",
      "source": [
        "# import dataset - revised\n",
        "dataset = datasets.fetch_california_housing()\n",
        "\n",
        "X, y = dataset['data'], dataset['target']"
      ],
      "metadata": {
        "id": "m0AyIB_qUmN0"
      },
      "execution_count": null,
      "outputs": []
    },
    {
      "cell_type": "code",
      "source": [
        "# Tensor-ize\n",
        "X = torch.FloatTensor(X)\n",
        "y = torch.FloatTensor(y).unsqueeze(-1)\n",
        "\n",
        "# reqularization\n",
        "X = (X - torch.mean(X) / torch.std(X))"
      ],
      "metadata": {
        "id": "qhgltpS0VEgx"
      },
      "execution_count": null,
      "outputs": []
    },
    {
      "cell_type": "code",
      "source": [
        "# model\n",
        "model = nn.Linear(X.shape[1], 1)\n",
        "\n",
        "# MSE\n",
        "criterion = nn.MSELoss()\n",
        "\n",
        "# optimizer\n",
        "optimizer = optim.SGD(model.parameters(), lr=0.01)"
      ],
      "metadata": {
        "id": "_8hrFLYaMVtc"
      },
      "execution_count": null,
      "outputs": []
    },
    {
      "cell_type": "code",
      "source": [
        "# train\n",
        "def train(model, criterion, optimizer, X, y):\n",
        "  optimizer.zero_grad()\n",
        "  hypothesis = model(X)\n",
        "  loss = criterion(hypothesis, y)\n",
        "  loss.backward()\n",
        "  optimizer.step()\n",
        "  return loss.item()"
      ],
      "metadata": {
        "id": "LS9RYfaMMeFm"
      },
      "execution_count": null,
      "outputs": []
    },
    {
      "cell_type": "code",
      "source": [
        "n_epochs = 100\n",
        "for epoch in range(1, n_epochs + 1):\n",
        "  loss = train(model, criterion, optimizer, X, y)\n",
        "  if epoch % 10 == 0:\n",
        "    print(f'Epoch: {epoch}, Loss: {loss}')"
      ],
      "metadata": {
        "colab": {
          "base_uri": "https://localhost:8080/"
        },
        "id": "lhk4lGFlNGt5",
        "outputId": "40cd3454-4611-49dd-bac8-aa9ee358d113"
      },
      "execution_count": null,
      "outputs": [
        {
          "output_type": "stream",
          "name": "stdout",
          "text": [
            "Epoch: 10, Loss: nan\n",
            "Epoch: 20, Loss: nan\n",
            "Epoch: 30, Loss: nan\n",
            "Epoch: 40, Loss: nan\n",
            "Epoch: 50, Loss: nan\n",
            "Epoch: 60, Loss: nan\n",
            "Epoch: 70, Loss: nan\n",
            "Epoch: 80, Loss: nan\n",
            "Epoch: 90, Loss: nan\n",
            "Epoch: 100, Loss: nan\n"
          ]
        }
      ]
    },
    {
      "cell_type": "code",
      "source": [],
      "metadata": {
        "id": "Wm5wVontNeIl"
      },
      "execution_count": null,
      "outputs": []
    }
  ]
}
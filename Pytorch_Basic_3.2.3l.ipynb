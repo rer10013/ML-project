{
  "nbformat": 4,
  "nbformat_minor": 0,
  "metadata": {
    "colab": {
      "provenance": [],
      "toc_visible": true,
      "gpuType": "T4",
      "mount_file_id": "1AsH2rz8JNfidXa4gFUjvP15jZb82Bs8B",
      "authorship_tag": "ABX9TyPCFFOP8M1QWtKz7CTfeKLk",
      "include_colab_link": true
    },
    "kernelspec": {
      "name": "python3",
      "display_name": "Python 3"
    },
    "language_info": {
      "name": "python"
    },
    "accelerator": "GPU"
  },
  "cells": [
    {
      "cell_type": "markdown",
      "metadata": {
        "id": "view-in-github",
        "colab_type": "text"
      },
      "source": [
        "<a href=\"https://colab.research.google.com/github/rer10013/ML-project/blob/main/Pytorch_Basic_3.2.3l.ipynb\" target=\"_parent\"><img src=\"https://colab.research.google.com/assets/colab-badge.svg\" alt=\"Open In Colab\"/></a>"
      ]
    },
    {
      "cell_type": "code",
      "execution_count": 1,
      "metadata": {
        "id": "yQfRZsvqUH5O"
      },
      "outputs": [],
      "source": [
        "# library\n",
        "from sklearn import datasets\n",
        "import torch\n",
        "import torch.nn as nn\n",
        "import torch.optim as optim"
      ]
    },
    {
      "cell_type": "code",
      "source": [
        "# import dataset - revised\n",
        "dataset = datasets.load_breast_cancer()\n",
        "\n",
        "X, y = dataset['data'], dataset['target']"
      ],
      "metadata": {
        "id": "m0AyIB_qUmN0"
      },
      "execution_count": 2,
      "outputs": []
    },
    {
      "cell_type": "code",
      "source": [
        "# Tensor-ize\n",
        "X = torch.FloatTensor(X)\n",
        "y = torch.FloatTensor(y).view(-1, 1)\n",
        "\n",
        "# reqularization\n",
        "X = (X - X.mean(dim=0)) / X.std(dim=0)\n",
        "\n",
        "print(y.shape)"
      ],
      "metadata": {
        "id": "qhgltpS0VEgx",
        "outputId": "2fddbc98-14f6-4298-ad5d-8571ac689a72",
        "colab": {
          "base_uri": "https://localhost:8080/"
        }
      },
      "execution_count": 8,
      "outputs": [
        {
          "output_type": "stream",
          "name": "stdout",
          "text": [
            "torch.Size([569, 1])\n"
          ]
        }
      ]
    },
    {
      "cell_type": "code",
      "source": [
        "# model\n",
        "class LogisticRegression(nn.Module):\n",
        "  def __init__(self, num_features):\n",
        "    super().__init__()\n",
        "    self.linear = nn.Linear(num_features, 1)\n",
        "    self.sigmoid = nn.Sigmoid()\n",
        "\n",
        "  def forward(self, x):\n",
        "    out = self.linear(x)\n",
        "    out = self.sigmoid(out)\n",
        "    return out\n",
        "\n",
        "model = LogisticRegression(30)"
      ],
      "metadata": {
        "id": "sYLlcgwELaua"
      },
      "execution_count": 4,
      "outputs": []
    },
    {
      "cell_type": "code",
      "source": [
        "# BCE\n",
        "criterion = nn.BCELoss()\n",
        "\n",
        "# optimizer\n",
        "optimizer = optim.SGD(model.parameters(), lr=0.1)"
      ],
      "metadata": {
        "id": "_8hrFLYaMVtc"
      },
      "execution_count": 5,
      "outputs": []
    },
    {
      "cell_type": "code",
      "source": [
        "# train\n",
        "def train(model, criterion, optimizer, X, y):\n",
        "  optimizer.zero_grad()\n",
        "  hypothesis = model(X)\n",
        "  loss = criterion(hypothesis, y)\n",
        "  loss.backward()\n",
        "  optimizer.step()\n",
        "  return loss.item()"
      ],
      "metadata": {
        "id": "LS9RYfaMMeFm"
      },
      "execution_count": 6,
      "outputs": []
    },
    {
      "cell_type": "code",
      "source": [
        "n_epochs = 100\n",
        "for epoch in range(1, n_epochs + 1):\n",
        "  loss = train(model, criterion, optimizer, X, y)\n",
        "  if epoch % 10 == 0:\n",
        "    print(f'Epoch: {epoch}, Loss: {loss}')"
      ],
      "metadata": {
        "colab": {
          "base_uri": "https://localhost:8080/"
        },
        "id": "lhk4lGFlNGt5",
        "outputId": "895f1965-f8c5-4368-8e3c-ab015d126b51"
      },
      "execution_count": 7,
      "outputs": [
        {
          "output_type": "stream",
          "name": "stdout",
          "text": [
            "Epoch: 10, Loss: 0.2639737129211426\n",
            "Epoch: 20, Loss: 0.19122707843780518\n",
            "Epoch: 30, Loss: 0.16019675135612488\n",
            "Epoch: 40, Loss: 0.14231263101100922\n",
            "Epoch: 50, Loss: 0.13042590022087097\n",
            "Epoch: 60, Loss: 0.12183115631341934\n",
            "Epoch: 70, Loss: 0.11526262760162354\n",
            "Epoch: 80, Loss: 0.11004221439361572\n",
            "Epoch: 90, Loss: 0.10577067732810974\n",
            "Epoch: 100, Loss: 0.10219595581293106\n"
          ]
        }
      ]
    },
    {
      "cell_type": "code",
      "source": [],
      "metadata": {
        "id": "Wm5wVontNeIl"
      },
      "execution_count": 7,
      "outputs": []
    }
  ]
}
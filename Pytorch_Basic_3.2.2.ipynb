{
  "nbformat": 4,
  "nbformat_minor": 0,
  "metadata": {
    "colab": {
      "provenance": [],
      "gpuType": "T4",
      "authorship_tag": "ABX9TyP4XFnoahDNuWUWwWXqBnI0",
      "include_colab_link": true
    },
    "kernelspec": {
      "name": "python3",
      "display_name": "Python 3"
    },
    "language_info": {
      "name": "python"
    },
    "accelerator": "GPU"
  },
  "cells": [
    {
      "cell_type": "markdown",
      "metadata": {
        "id": "view-in-github",
        "colab_type": "text"
      },
      "source": [
        "<a href=\"https://colab.research.google.com/github/rer10013/ML-project/blob/main/Pytorch_Basic_3.2.2.ipynb\" target=\"_parent\"><img src=\"https://colab.research.google.com/assets/colab-badge.svg\" alt=\"Open In Colab\"/></a>"
      ]
    },
    {
      "cell_type": "code",
      "execution_count": 1,
      "metadata": {
        "id": "shaz61nNRm9k"
      },
      "outputs": [],
      "source": [
        "# library\n",
        "from sklearn import datasets\n",
        "import torch\n",
        "import torch.nn as nn\n",
        "import torch.optim as optim"
      ]
    },
    {
      "cell_type": "code",
      "source": [
        "# import dataset\n",
        "dataset = datasets.load_breast_cancer()\n",
        "\n",
        "X, y = dataset['data'], dataset['target']"
      ],
      "metadata": {
        "id": "G6lF33cXRtRS"
      },
      "execution_count": 2,
      "outputs": []
    },
    {
      "cell_type": "code",
      "source": [
        "# Tensor-ize\n",
        "X = torch.FloatTensor(X)\n",
        "y = torch.FloatTensor(y).view(-1, 1)\n",
        "\n",
        "# reqularization\n",
        "X = (X - X.mean(dim=0)) / X.std(dim=0)"
      ],
      "metadata": {
        "id": "Ep8jDaHHR4Kx"
      },
      "execution_count": 3,
      "outputs": []
    },
    {
      "cell_type": "code",
      "source": [
        "# model\n",
        "model = nn.Sequential(\n",
        "    nn.Linear(30, 1),\n",
        "    nn.Sigmoid()\n",
        ")"
      ],
      "metadata": {
        "id": "Y6oOcre-R95n"
      },
      "execution_count": 4,
      "outputs": []
    },
    {
      "cell_type": "code",
      "source": [
        "# BCE\n",
        "criterion = nn.BCELoss()\n",
        "\n",
        "# Optimizer\n",
        "optimizer = optim.SGD(model.parameters(), lr=0.1)"
      ],
      "metadata": {
        "id": "AsLZbGKVSKzA"
      },
      "execution_count": 5,
      "outputs": []
    },
    {
      "cell_type": "code",
      "source": [
        "# train\n",
        "def train(model, criterion, optimizer, X, y):\n",
        "  optimizer.zero_grad()\n",
        "  hypothesis = model(X)\n",
        "  loss = criterion(hypothesis, y)\n",
        "  loss.backward()\n",
        "  optimizer.step()\n",
        "  return loss.item()"
      ],
      "metadata": {
        "id": "ZkxCxk8DSeJH"
      },
      "execution_count": 6,
      "outputs": []
    },
    {
      "cell_type": "code",
      "source": [
        "n_epochs = 100\n",
        "for epoch in range(1, n_epochs + 1):\n",
        "  loss = train(model, criterion, optimizer, X, y)\n",
        "  if epoch % 10 == 0:\n",
        "    print(f'Epoch: {epoch}, Loss: {loss:.4f}')"
      ],
      "metadata": {
        "colab": {
          "base_uri": "https://localhost:8080/"
        },
        "collapsed": true,
        "id": "uL3Xq8z1Sjlk",
        "outputId": "a687fbb1-c9f9-4746-ebe5-dd063155a222"
      },
      "execution_count": 9,
      "outputs": [
        {
          "output_type": "stream",
          "name": "stdout",
          "text": [
            "Epoch: 10, Loss: 0.0613\n",
            "Epoch: 20, Loss: 0.0612\n",
            "Epoch: 30, Loss: 0.0611\n",
            "Epoch: 40, Loss: 0.0610\n",
            "Epoch: 50, Loss: 0.0609\n",
            "Epoch: 60, Loss: 0.0608\n",
            "Epoch: 70, Loss: 0.0607\n",
            "Epoch: 80, Loss: 0.0606\n",
            "Epoch: 90, Loss: 0.0605\n",
            "Epoch: 100, Loss: 0.0604\n"
          ]
        }
      ]
    },
    {
      "cell_type": "code",
      "source": [
        "# Inference\n",
        "y_predicted = (model(X) >= 0.5).float()\n",
        "\n",
        "# Calculate accuracy\n",
        "score = (y_predicted == y).float().mean()\n",
        "print(f'Accuracy: {score.item():.2f}')"
      ],
      "metadata": {
        "colab": {
          "base_uri": "https://localhost:8080/"
        },
        "id": "F4Bcqz6LTGVK",
        "outputId": "1dc3a666-5fa4-41a3-e097-3150d6526681"
      },
      "execution_count": 10,
      "outputs": [
        {
          "output_type": "stream",
          "name": "stdout",
          "text": [
            "Accuracy: 0.99\n"
          ]
        }
      ]
    }
  ]
}
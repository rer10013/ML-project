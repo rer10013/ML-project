{
  "nbformat": 4,
  "nbformat_minor": 0,
  "metadata": {
    "colab": {
      "provenance": [],
      "authorship_tag": "ABX9TyO3p1GIR6W6xg3FTQq4Du3P",
      "include_colab_link": true
    },
    "kernelspec": {
      "name": "python3",
      "display_name": "Python 3"
    },
    "language_info": {
      "name": "python"
    }
  },
  "cells": [
    {
      "cell_type": "markdown",
      "metadata": {
        "id": "view-in-github",
        "colab_type": "text"
      },
      "source": [
        "<a href=\"https://colab.research.google.com/github/rer10013/ML-project/blob/main/Pytorch_Basic_3.2.2.ipynb\" target=\"_parent\"><img src=\"https://colab.research.google.com/assets/colab-badge.svg\" alt=\"Open In Colab\"/></a>"
      ]
    },
    {
      "cell_type": "code",
      "execution_count": 16,
      "metadata": {
        "id": "shaz61nNRm9k"
      },
      "outputs": [],
      "source": [
        "# library\n",
        "from sklearn import datasets\n",
        "import torch\n",
        "import torch.nn as nn\n",
        "import torch.optim as optim"
      ]
    },
    {
      "cell_type": "code",
      "source": [
        "# import dataset\n",
        "dataset = datasets.load_breast_cancer()\n",
        "\n",
        "X, y = dataset['data'], dataset['target']"
      ],
      "metadata": {
        "id": "G6lF33cXRtRS"
      },
      "execution_count": 17,
      "outputs": []
    },
    {
      "cell_type": "code",
      "source": [
        "# Tensor-ize\n",
        "X = torch.FloatTensor(X)\n",
        "y = torch.FloatTensor(y).view(-1, 1)\n",
        "\n",
        "# reqularization\n",
        "X = (X - torch.mean(X) / torch.std(X))"
      ],
      "metadata": {
        "id": "Ep8jDaHHR4Kx"
      },
      "execution_count": 18,
      "outputs": []
    },
    {
      "cell_type": "code",
      "source": [
        "# model\n",
        "model = nn.Sequential(\n",
        "    nn.Linear(30, 1),\n",
        "    nn.Sigmoid()\n",
        ")"
      ],
      "metadata": {
        "id": "Y6oOcre-R95n"
      },
      "execution_count": 19,
      "outputs": []
    },
    {
      "cell_type": "code",
      "source": [
        "# BCE\n",
        "criterion = nn.BCELoss()\n",
        "\n",
        "# Optimizer\n",
        "optimizer = optim.SGD(model.parameters(), lr=0.1)"
      ],
      "metadata": {
        "id": "AsLZbGKVSKzA"
      },
      "execution_count": 20,
      "outputs": []
    },
    {
      "cell_type": "code",
      "source": [
        "# train\n",
        "def train(model, criterion, optimizer, X, y):\n",
        "  optimizer.zero_grad()\n",
        "  hypothesis = model(X)\n",
        "  loss = criterion(hypothesis, y)\n",
        "  loss.backward()\n",
        "  optimizer.step()\n",
        "  return loss.item()"
      ],
      "metadata": {
        "id": "ZkxCxk8DSeJH"
      },
      "execution_count": 21,
      "outputs": []
    },
    {
      "cell_type": "code",
      "source": [
        "n_epochs = 1000\n",
        "for epoch in range(1, n_epochs + 1):\n",
        "  loss = train(model, criterion, optimizer, X, y)\n",
        "  if epoch % 10 == 0:\n",
        "    print(f'Epoch: {epoch}, Loss: {loss:.4f}')"
      ],
      "metadata": {
        "colab": {
          "base_uri": "https://localhost:8080/"
        },
        "collapsed": true,
        "id": "uL3Xq8z1Sjlk",
        "outputId": "ce9d7b23-eecb-4f80-a48b-6ffda20b1589"
      },
      "execution_count": 25,
      "outputs": [
        {
          "output_type": "stream",
          "name": "stdout",
          "text": [
            "Epoch: 10, Loss: 37.2583\n",
            "Epoch: 20, Loss: 37.2583\n",
            "Epoch: 30, Loss: 37.2583\n",
            "Epoch: 40, Loss: 37.2583\n",
            "Epoch: 50, Loss: 37.2583\n",
            "Epoch: 60, Loss: 37.2583\n",
            "Epoch: 70, Loss: 37.2583\n",
            "Epoch: 80, Loss: 37.2583\n",
            "Epoch: 90, Loss: 37.2583\n",
            "Epoch: 100, Loss: 37.2583\n",
            "Epoch: 110, Loss: 37.2583\n",
            "Epoch: 120, Loss: 37.2583\n",
            "Epoch: 130, Loss: 37.2583\n",
            "Epoch: 140, Loss: 37.2583\n",
            "Epoch: 150, Loss: 37.2583\n",
            "Epoch: 160, Loss: 37.2583\n",
            "Epoch: 170, Loss: 37.2583\n",
            "Epoch: 180, Loss: 37.2583\n",
            "Epoch: 190, Loss: 37.2583\n",
            "Epoch: 200, Loss: 37.2583\n",
            "Epoch: 210, Loss: 37.2583\n",
            "Epoch: 220, Loss: 37.2583\n",
            "Epoch: 230, Loss: 37.2583\n",
            "Epoch: 240, Loss: 37.2583\n",
            "Epoch: 250, Loss: 37.2583\n",
            "Epoch: 260, Loss: 37.2583\n",
            "Epoch: 270, Loss: 37.2583\n",
            "Epoch: 280, Loss: 37.2583\n",
            "Epoch: 290, Loss: 37.2583\n",
            "Epoch: 300, Loss: 37.2583\n",
            "Epoch: 310, Loss: 37.2583\n",
            "Epoch: 320, Loss: 37.2583\n",
            "Epoch: 330, Loss: 37.2583\n",
            "Epoch: 340, Loss: 37.2583\n",
            "Epoch: 350, Loss: 37.2583\n",
            "Epoch: 360, Loss: 37.2583\n",
            "Epoch: 370, Loss: 37.2583\n",
            "Epoch: 380, Loss: 37.2583\n",
            "Epoch: 390, Loss: 37.2583\n",
            "Epoch: 400, Loss: 37.2583\n",
            "Epoch: 410, Loss: 37.2583\n",
            "Epoch: 420, Loss: 37.2583\n",
            "Epoch: 430, Loss: 37.2583\n",
            "Epoch: 440, Loss: 37.2583\n",
            "Epoch: 450, Loss: 37.2583\n",
            "Epoch: 460, Loss: 37.2583\n",
            "Epoch: 470, Loss: 37.2583\n",
            "Epoch: 480, Loss: 37.2583\n",
            "Epoch: 490, Loss: 37.2583\n",
            "Epoch: 500, Loss: 37.2583\n",
            "Epoch: 510, Loss: 37.2583\n",
            "Epoch: 520, Loss: 37.2583\n",
            "Epoch: 530, Loss: 37.2583\n",
            "Epoch: 540, Loss: 37.2583\n",
            "Epoch: 550, Loss: 37.2583\n",
            "Epoch: 560, Loss: 37.2583\n",
            "Epoch: 570, Loss: 37.2583\n",
            "Epoch: 580, Loss: 37.2583\n",
            "Epoch: 590, Loss: 37.2583\n",
            "Epoch: 600, Loss: 37.2583\n",
            "Epoch: 610, Loss: 37.2583\n",
            "Epoch: 620, Loss: 37.2583\n",
            "Epoch: 630, Loss: 37.2583\n",
            "Epoch: 640, Loss: 37.2583\n",
            "Epoch: 650, Loss: 37.2583\n",
            "Epoch: 660, Loss: 37.2583\n",
            "Epoch: 670, Loss: 37.2583\n",
            "Epoch: 680, Loss: 37.2583\n",
            "Epoch: 690, Loss: 37.2583\n",
            "Epoch: 700, Loss: 37.2583\n",
            "Epoch: 710, Loss: 37.2583\n",
            "Epoch: 720, Loss: 37.2583\n",
            "Epoch: 730, Loss: 37.2583\n",
            "Epoch: 740, Loss: 37.2583\n",
            "Epoch: 750, Loss: 37.2583\n",
            "Epoch: 760, Loss: 37.2583\n",
            "Epoch: 770, Loss: 37.2583\n",
            "Epoch: 780, Loss: 37.2583\n",
            "Epoch: 790, Loss: 37.2583\n",
            "Epoch: 800, Loss: 37.2583\n",
            "Epoch: 810, Loss: 37.2583\n",
            "Epoch: 820, Loss: 37.2583\n",
            "Epoch: 830, Loss: 37.2583\n",
            "Epoch: 840, Loss: 37.2583\n",
            "Epoch: 850, Loss: 37.2583\n",
            "Epoch: 860, Loss: 37.2583\n",
            "Epoch: 870, Loss: 37.2583\n",
            "Epoch: 880, Loss: 37.2583\n",
            "Epoch: 890, Loss: 37.2583\n",
            "Epoch: 900, Loss: 37.2583\n",
            "Epoch: 910, Loss: 37.2583\n",
            "Epoch: 920, Loss: 37.2583\n",
            "Epoch: 930, Loss: 37.2583\n",
            "Epoch: 940, Loss: 37.2583\n",
            "Epoch: 950, Loss: 37.2583\n",
            "Epoch: 960, Loss: 37.2583\n",
            "Epoch: 970, Loss: 37.2583\n",
            "Epoch: 980, Loss: 37.2583\n",
            "Epoch: 990, Loss: 37.2583\n",
            "Epoch: 1000, Loss: 37.2583\n"
          ]
        }
      ]
    },
    {
      "cell_type": "code",
      "source": [
        "# Inference\n",
        "y_predicted = (model(X) >= 0.5).float()\n",
        "\n",
        "# Calculate accuracy\n",
        "score = (y_predicted == y).float().mean()\n",
        "print(f'Accuracy: {score.item():.2f}')"
      ],
      "metadata": {
        "colab": {
          "base_uri": "https://localhost:8080/"
        },
        "id": "F4Bcqz6LTGVK",
        "outputId": "6149f169-42a6-4ee3-8307-d34dcb5ff410"
      },
      "execution_count": 24,
      "outputs": [
        {
          "output_type": "stream",
          "name": "stdout",
          "text": [
            "Accuracy: 0.63\n"
          ]
        }
      ]
    }
  ]
}
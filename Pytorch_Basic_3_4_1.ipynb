{
  "nbformat": 4,
  "nbformat_minor": 0,
  "metadata": {
    "colab": {
      "provenance": [],
      "gpuType": "T4",
      "authorship_tag": "ABX9TyPwdBjyLoOs8LVLHaYmcjyR",
      "include_colab_link": true
    },
    "kernelspec": {
      "name": "python3",
      "display_name": "Python 3"
    },
    "language_info": {
      "name": "python"
    },
    "accelerator": "GPU"
  },
  "cells": [
    {
      "cell_type": "markdown",
      "metadata": {
        "id": "view-in-github",
        "colab_type": "text"
      },
      "source": [
        "<a href=\"https://colab.research.google.com/github/rer10013/ML-project/blob/main/Pytorch_Basic_3_4_1.ipynb\" target=\"_parent\"><img src=\"https://colab.research.google.com/assets/colab-badge.svg\" alt=\"Open In Colab\"/></a>"
      ]
    },
    {
      "cell_type": "code",
      "execution_count": 1,
      "metadata": {
        "id": "4Vjjj6fMRWnp"
      },
      "outputs": [],
      "source": [
        "# library\n",
        "from torchvision import datasets\n",
        "from torch.utils.data import TensorDataset, DataLoader\n",
        "import torch\n",
        "import torch.nn as nn\n",
        "import torch.optim as optim"
      ]
    },
    {
      "cell_type": "code",
      "source": [
        "# Minst dataset\n",
        "!git clone https://github.com/baek2sm/ml.git\n",
        "!tar zxvf ml/datasets/MINST.tar.gz\n",
        "\n",
        "# Load Minst dataset\n",
        "path = './'\n",
        "train_dataset = datasets.MNIST(path, train=True, download=True)\n",
        "test_dataset = datasets.MNIST(path, train=False, download=True)\n",
        "\n",
        "# Make train/test set\n",
        "X_train, y_train = train_dataset.data /255, train_dataset.targets\n",
        "X_test, y_test = test_dataset.data /255, test_dataset.targets"
      ],
      "metadata": {
        "colab": {
          "base_uri": "https://localhost:8080/"
        },
        "id": "rmLlT2PJSQOr",
        "outputId": "5abe699a-27b4-4955-a110-c088b4010e54"
      },
      "execution_count": 2,
      "outputs": [
        {
          "output_type": "stream",
          "name": "stdout",
          "text": [
            "Cloning into 'ml'...\n",
            "remote: Enumerating objects: 299, done.\u001b[K\n",
            "remote: Counting objects: 100% (10/10), done.\u001b[K\n",
            "remote: Compressing objects: 100% (7/7), done.\u001b[K\n",
            "remote: Total 299 (delta 6), reused 3 (delta 3), pack-reused 289 (from 1)\u001b[K\n",
            "Receiving objects: 100% (299/299), 64.38 MiB | 36.61 MiB/s, done.\n",
            "Resolving deltas: 100% (155/155), done.\n",
            "tar (child): ml/datasets/MINST.tar.gz: Cannot open: No such file or directory\n",
            "tar (child): Error is not recoverable: exiting now\n",
            "tar: Child returned status 2\n",
            "tar: Error is not recoverable: exiting now\n"
          ]
        },
        {
          "output_type": "stream",
          "name": "stderr",
          "text": [
            "100%|██████████| 9.91M/9.91M [00:00<00:00, 15.3MB/s]\n",
            "100%|██████████| 28.9k/28.9k [00:00<00:00, 450kB/s]\n",
            "100%|██████████| 1.65M/1.65M [00:00<00:00, 4.20MB/s]\n",
            "100%|██████████| 4.54k/4.54k [00:00<00:00, 9.86MB/s]\n"
          ]
        }
      ]
    },
    {
      "cell_type": "code",
      "source": [
        "# Check sets\n",
        "print(X_train.shape)\n",
        "print(y_train.shape)\n",
        "print(X_test.shape)\n",
        "print(y_test.shape)"
      ],
      "metadata": {
        "colab": {
          "base_uri": "https://localhost:8080/"
        },
        "id": "TcA84Ct6S4sN",
        "outputId": "61238640-ef1e-4562-9185-0b4afacb3f14"
      },
      "execution_count": 3,
      "outputs": [
        {
          "output_type": "stream",
          "name": "stdout",
          "text": [
            "torch.Size([60000, 28, 28])\n",
            "torch.Size([60000])\n",
            "torch.Size([10000, 28, 28])\n",
            "torch.Size([10000])\n"
          ]
        }
      ]
    },
    {
      "cell_type": "code",
      "source": [
        "# 2d to 3d\n",
        "X_train, X_test = X_train.unsqueeze(1), X_test.unsqueeze(1)\n",
        "\n",
        "# Check xsets\n",
        "print(X_train.shape)\n",
        "print(X_test.shape)"
      ],
      "metadata": {
        "colab": {
          "base_uri": "https://localhost:8080/"
        },
        "id": "b5j9-BZzTEIm",
        "outputId": "282c7b60-31b3-4dbe-b9f9-37cba9d474c2"
      },
      "execution_count": 4,
      "outputs": [
        {
          "output_type": "stream",
          "name": "stdout",
          "text": [
            "torch.Size([60000, 1, 28, 28])\n",
            "torch.Size([10000, 1, 28, 28])\n"
          ]
        }
      ]
    },
    {
      "cell_type": "code",
      "source": [
        "# Make dataset\n",
        "train_dset = TensorDataset(X_train, y_train)\n",
        "test_dset = TensorDataset(X_test, y_test)\n",
        "\n",
        "# Make dataloader\n",
        "train_loader = DataLoader(train_dset, batch_size=32, shuffle=True)\n",
        "test_loader = DataLoader(test_dset, batch_size=32, shuffle=False)"
      ],
      "metadata": {
        "id": "cX9kYXkZTT8V"
      },
      "execution_count": 5,
      "outputs": []
    },
    {
      "cell_type": "code",
      "source": [
        "# CNN class\n",
        "class CNN(nn.Module):\n",
        "    def __init__(self):\n",
        "        super().__init__()\n",
        "\n",
        "        self.hidden_layer1 = nn.Sequential(\n",
        "            nn.Conv2d(1, 64, kernel_size=(3,3)),\n",
        "            nn.ReLU(),\n",
        "            nn.MaxPool2d(kernel_size=(2,2)),\n",
        "            nn.Dropout(0.5)\n",
        "        )\n",
        "\n",
        "        self.hidden_layer2 = nn.Sequential(\n",
        "            nn.Conv2d(64, 128, kernel_size=(3,3)),\n",
        "            nn.ReLU(),\n",
        "            nn.MaxPool2d(kernel_size=(2,2)),\n",
        "            nn.Dropout(0.5)\n",
        "        )\n",
        "\n",
        "        self.hidden_layer3 = nn.Linear(128*5*5, 128)\n",
        "        self.output_layer = nn.Linear(128, 10)\n",
        "\n",
        "    def forward(self, X):\n",
        "        out = self.hidden_layer1(X)\n",
        "        out = self.hidden_layer2(out)\n",
        "        out = out.view(out.size(0), -1)\n",
        "        out = self.hidden_layer3(out)\n",
        "        out = self.output_layer(out)\n",
        "        return out"
      ],
      "metadata": {
        "id": "35R-ikT6TbVW"
      },
      "execution_count": 6,
      "outputs": []
    },
    {
      "cell_type": "code",
      "source": [
        "# Set environment\n",
        "device = 'cuda' if torch.cuda.is_available() else 'cpu'\n",
        "model = CNN().to(device)\n",
        "criterion = nn.CrossEntropyLoss()\n",
        "optimizer = optim.Adam(model.parameters(), lr=0.0001)"
      ],
      "metadata": {
        "id": "TvUZMZmjUYb_"
      },
      "execution_count": 7,
      "outputs": []
    },
    {
      "cell_type": "code",
      "source": [
        "# Train model\n",
        "def train(model, criterion, optimizer, loader):\n",
        "    epoch_loss = 0\n",
        "    epoch_acc = 0\n",
        "\n",
        "    model.train()\n",
        "\n",
        "    for X_batch, y_batch in loader:\n",
        "        X_batch, y_batch = X_batch.to(device), y_batch.to(device)\n",
        "        optimizer.zero_grad()\n",
        "\n",
        "        y_pred = model(X_batch)\n",
        "        hypothesis = model(X_batch)\n",
        "        loss = criterion(hypothesis, y_batch)\n",
        "        loss.backward()\n",
        "        optimizer.step()\n",
        "\n",
        "        y_predicted = torch.argmax(hypothesis, 1)\n",
        "        acc = (y_predicted == y_batch).float().mean()\n",
        "\n",
        "        epoch_loss += loss.item()\n",
        "        epoch_acc += acc.item()\n",
        "\n",
        "    return epoch_loss / len(loader), epoch_acc / len(loader)"
      ],
      "metadata": {
        "id": "W1AM9mgXUxZO"
      },
      "execution_count": 11,
      "outputs": []
    },
    {
      "cell_type": "code",
      "source": [
        "# Evaluation model\n",
        "def evaluate(model, criterion, loader):\n",
        "    epoch_loss = 0\n",
        "    epoch_acc = 0\n",
        "\n",
        "    model.eval()\n",
        "\n",
        "    with torch.no_grad():\n",
        "        for X_batch, y_batch in loader:\n",
        "            X_batch, y_batch = X_batch.to(device), y_batch.to(device)\n",
        "            hypothesis = model(X_batch)\n",
        "            loss = criterion(hypothesis, y_batch)\n",
        "            y_predicted = torch.argmax(hypothesis, 1)\n",
        "            acc = (y_predicted == y_batch).float().mean()\n",
        "            epoch_loss += loss.item()\n",
        "            epoch_acc += acc.item()\n",
        "\n",
        "    return epoch_loss / len(loader), epoch_acc / len(loader)"
      ],
      "metadata": {
        "id": "yKeLp_6DVkBV"
      },
      "execution_count": 12,
      "outputs": []
    },
    {
      "cell_type": "code",
      "source": [
        "# Train\n",
        "n_epochs = 20\n",
        "\n",
        "for epoch in range(1, n_epochs + 1):\n",
        "    train_loss, train_acc = train(model, criterion, optimizer, train_loader)\n",
        "    valid_loss, valid_acc = evaluate(model, criterion, test_loader)\n",
        "\n",
        "    print(f'Epoch: {epoch} Train Loss: {train_loss:.4f}, Train Acc: {train_acc:.4f} Valid Loss: {valid_loss:.4f}, Valid Acc: {valid_acc:.4f}')"
      ],
      "metadata": {
        "colab": {
          "base_uri": "https://localhost:8080/"
        },
        "id": "S_NNGz_yV6_G",
        "outputId": "ff24f799-c690-41a1-fbdb-f9d640e2eadf"
      },
      "execution_count": 13,
      "outputs": [
        {
          "output_type": "stream",
          "name": "stdout",
          "text": [
            "Epoch: 1 Train Loss: 0.0499, Train Acc: 0.9841 Valid Loss: 0.0283, Valid Acc: 0.9903\n",
            "Epoch: 2 Train Loss: 0.0472, Train Acc: 0.9853 Valid Loss: 0.0303, Valid Acc: 0.9891\n",
            "Epoch: 3 Train Loss: 0.0466, Train Acc: 0.9845 Valid Loss: 0.0275, Valid Acc: 0.9910\n",
            "Epoch: 4 Train Loss: 0.0436, Train Acc: 0.9861 Valid Loss: 0.0276, Valid Acc: 0.9910\n",
            "Epoch: 5 Train Loss: 0.0416, Train Acc: 0.9870 Valid Loss: 0.0275, Valid Acc: 0.9900\n",
            "Epoch: 6 Train Loss: 0.0392, Train Acc: 0.9875 Valid Loss: 0.0259, Valid Acc: 0.9913\n",
            "Epoch: 7 Train Loss: 0.0389, Train Acc: 0.9878 Valid Loss: 0.0256, Valid Acc: 0.9913\n",
            "Epoch: 8 Train Loss: 0.0373, Train Acc: 0.9879 Valid Loss: 0.0250, Valid Acc: 0.9921\n",
            "Epoch: 9 Train Loss: 0.0367, Train Acc: 0.9885 Valid Loss: 0.0243, Valid Acc: 0.9915\n",
            "Epoch: 10 Train Loss: 0.0351, Train Acc: 0.9884 Valid Loss: 0.0247, Valid Acc: 0.9916\n",
            "Epoch: 11 Train Loss: 0.0347, Train Acc: 0.9888 Valid Loss: 0.0237, Valid Acc: 0.9923\n",
            "Epoch: 12 Train Loss: 0.0337, Train Acc: 0.9888 Valid Loss: 0.0229, Valid Acc: 0.9914\n",
            "Epoch: 13 Train Loss: 0.0336, Train Acc: 0.9890 Valid Loss: 0.0242, Valid Acc: 0.9917\n",
            "Epoch: 14 Train Loss: 0.0334, Train Acc: 0.9893 Valid Loss: 0.0239, Valid Acc: 0.9915\n",
            "Epoch: 15 Train Loss: 0.0318, Train Acc: 0.9898 Valid Loss: 0.0235, Valid Acc: 0.9917\n",
            "Epoch: 16 Train Loss: 0.0307, Train Acc: 0.9901 Valid Loss: 0.0247, Valid Acc: 0.9913\n",
            "Epoch: 17 Train Loss: 0.0298, Train Acc: 0.9900 Valid Loss: 0.0249, Valid Acc: 0.9910\n",
            "Epoch: 18 Train Loss: 0.0306, Train Acc: 0.9904 Valid Loss: 0.0229, Valid Acc: 0.9922\n",
            "Epoch: 19 Train Loss: 0.0285, Train Acc: 0.9907 Valid Loss: 0.0227, Valid Acc: 0.9926\n",
            "Epoch: 20 Train Loss: 0.0286, Train Acc: 0.9905 Valid Loss: 0.0234, Valid Acc: 0.9919\n"
          ]
        }
      ]
    }
  ]
}